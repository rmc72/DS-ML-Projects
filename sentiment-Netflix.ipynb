{
 "cells": [
  {
   "cell_type": "markdown",
   "id": "093327c1",
   "metadata": {},
   "source": [
    "# Twitter Sentiment Analysis"
   ]
  },
  {
   "cell_type": "markdown",
   "id": "672cf070",
   "metadata": {},
   "source": [
    "Sentiment analysis is a task of natural language processing (NLP)."
   ]
  },
  {
   "cell_type": "markdown",
   "id": "e6874096",
   "metadata": {},
   "source": [
    "I'm going to analyze sentiment in Twiter about Netflix. For that purpose I will scrape Twitter using snscrape"
   ]
  },
  {
   "cell_type": "markdown",
   "id": "120e0ed0",
   "metadata": {},
   "source": [
    "Let's start by importing the libraries we need"
   ]
  },
  {
   "cell_type": "code",
   "execution_count": 1,
   "id": "c820e013",
   "metadata": {},
   "outputs": [],
   "source": [
    "import pandas as pd\n",
    "import numpy as np\n",
    "\n",
    "import re\n",
    "import nltk\n",
    "import nltk\n",
    "import matplotlib.pyplot as plt\n",
    "\n",
    "import snscrape.modules.twitter as sntwitter\n"
   ]
  },
  {
   "cell_type": "markdown",
   "id": "4c7155cc",
   "metadata": {},
   "source": [
    "Let's scrape Twitter getting last messages about Netflix"
   ]
  },
  {
   "cell_type": "code",
   "execution_count": 2,
   "id": "0bb19987",
   "metadata": {},
   "outputs": [
    {
     "data": {
      "text/html": [
       "<div>\n",
       "<style scoped>\n",
       "    .dataframe tbody tr th:only-of-type {\n",
       "        vertical-align: middle;\n",
       "    }\n",
       "\n",
       "    .dataframe tbody tr th {\n",
       "        vertical-align: top;\n",
       "    }\n",
       "\n",
       "    .dataframe thead th {\n",
       "        text-align: right;\n",
       "    }\n",
       "</style>\n",
       "<table border=\"1\" class=\"dataframe\">\n",
       "  <thead>\n",
       "    <tr style=\"text-align: right;\">\n",
       "      <th></th>\n",
       "      <th>Datetime</th>\n",
       "      <th>Text</th>\n",
       "      <th>Like Count</th>\n",
       "      <th>Language</th>\n",
       "    </tr>\n",
       "  </thead>\n",
       "  <tbody>\n",
       "    <tr>\n",
       "      <th>0</th>\n",
       "      <td>2022-04-23 23:59:57+00:00</td>\n",
       "      <td>Y yo buscando “secret” en #Netflix @abelprzl 🤣</td>\n",
       "      <td>1</td>\n",
       "      <td>es</td>\n",
       "    </tr>\n",
       "    <tr>\n",
       "      <th>1</th>\n",
       "      <td>2022-04-23 23:59:53+00:00</td>\n",
       "      <td>@netflix please this needs to be addressed on ...</td>\n",
       "      <td>3</td>\n",
       "      <td>en</td>\n",
       "    </tr>\n",
       "    <tr>\n",
       "      <th>2</th>\n",
       "      <td>2022-04-23 23:59:51+00:00</td>\n",
       "      <td>Havent decided. Why would I sell it when I can...</td>\n",
       "      <td>1</td>\n",
       "      <td>en</td>\n",
       "    </tr>\n",
       "    <tr>\n",
       "      <th>3</th>\n",
       "      <td>2022-04-23 23:59:48+00:00</td>\n",
       "      <td>@fabiolaken13 @NetflixBrasil https://t.co/pJ9E...</td>\n",
       "      <td>4</td>\n",
       "      <td>und</td>\n",
       "    </tr>\n",
       "    <tr>\n",
       "      <th>4</th>\n",
       "      <td>2022-04-23 23:59:45+00:00</td>\n",
       "      <td>hoje só quero saber da minha cama e netflix</td>\n",
       "      <td>0</td>\n",
       "      <td>pt</td>\n",
       "    </tr>\n",
       "    <tr>\n",
       "      <th>...</th>\n",
       "      <td>...</td>\n",
       "      <td>...</td>\n",
       "      <td>...</td>\n",
       "      <td>...</td>\n",
       "    </tr>\n",
       "    <tr>\n",
       "      <th>9996</th>\n",
       "      <td>2022-04-23 21:18:54+00:00</td>\n",
       "      <td>Dont really care about all this Netflix talk. ...</td>\n",
       "      <td>9</td>\n",
       "      <td>en</td>\n",
       "    </tr>\n",
       "    <tr>\n",
       "      <th>9997</th>\n",
       "      <td>2022-04-23 21:18:54+00:00</td>\n",
       "      <td>Blockbuster to Netflix right now https://t.co/...</td>\n",
       "      <td>18</td>\n",
       "      <td>en</td>\n",
       "    </tr>\n",
       "    <tr>\n",
       "      <th>9998</th>\n",
       "      <td>2022-04-23 21:18:53+00:00</td>\n",
       "      <td>Netflix que tal vc lançar Goblin no catálogo? ...</td>\n",
       "      <td>0</td>\n",
       "      <td>pt</td>\n",
       "    </tr>\n",
       "    <tr>\n",
       "      <th>9999</th>\n",
       "      <td>2022-04-23 21:18:53+00:00</td>\n",
       "      <td>@Batboat77 @__premkumar__ @steusmotus Lmao. Ne...</td>\n",
       "      <td>3</td>\n",
       "      <td>en</td>\n",
       "    </tr>\n",
       "    <tr>\n",
       "      <th>10000</th>\n",
       "      <td>2022-04-23 21:18:50+00:00</td>\n",
       "      <td>@everytimeemilie it’s a comic, which was turne...</td>\n",
       "      <td>1</td>\n",
       "      <td>en</td>\n",
       "    </tr>\n",
       "  </tbody>\n",
       "</table>\n",
       "<p>10001 rows × 4 columns</p>\n",
       "</div>"
      ],
      "text/plain": [
       "                       Datetime  \\\n",
       "0     2022-04-23 23:59:57+00:00   \n",
       "1     2022-04-23 23:59:53+00:00   \n",
       "2     2022-04-23 23:59:51+00:00   \n",
       "3     2022-04-23 23:59:48+00:00   \n",
       "4     2022-04-23 23:59:45+00:00   \n",
       "...                         ...   \n",
       "9996  2022-04-23 21:18:54+00:00   \n",
       "9997  2022-04-23 21:18:54+00:00   \n",
       "9998  2022-04-23 21:18:53+00:00   \n",
       "9999  2022-04-23 21:18:53+00:00   \n",
       "10000 2022-04-23 21:18:50+00:00   \n",
       "\n",
       "                                                    Text  Like Count Language  \n",
       "0         Y yo buscando “secret” en #Netflix @abelprzl 🤣           1       es  \n",
       "1      @netflix please this needs to be addressed on ...           3       en  \n",
       "2      Havent decided. Why would I sell it when I can...           1       en  \n",
       "3      @fabiolaken13 @NetflixBrasil https://t.co/pJ9E...           4      und  \n",
       "4            hoje só quero saber da minha cama e netflix           0       pt  \n",
       "...                                                  ...         ...      ...  \n",
       "9996   Dont really care about all this Netflix talk. ...           9       en  \n",
       "9997   Blockbuster to Netflix right now https://t.co/...          18       en  \n",
       "9998   Netflix que tal vc lançar Goblin no catálogo? ...           0       pt  \n",
       "9999   @Batboat77 @__premkumar__ @steusmotus Lmao. Ne...           3       en  \n",
       "10000  @everytimeemilie it’s a comic, which was turne...           1       en  \n",
       "\n",
       "[10001 rows x 4 columns]"
      ]
     },
     "execution_count": 2,
     "metadata": {},
     "output_type": "execute_result"
    }
   ],
   "source": [
    "# Creating list to append tweet data to\n",
    "tweets_list2 = []\n",
    "\n",
    "# Using TwitterSearchScraper to scrape data and append tweets to list\n",
    "for i,tweet in enumerate(sntwitter.TwitterSearchScraper('netflix until:2022-04-24').get_items()):\n",
    "    if i>10000:\n",
    "        break\n",
    "#    tweets_list2.append([tweet.date, tweet.id, tweet.content, tweet.user.username, tweet.likeCount, tweet.user.displayname, tweet.lang])\n",
    "    tweets_list2.append([tweet.date, tweet.content, tweet.likeCount, tweet.lang])\n",
    "    \n",
    "# Creating a dataframe from the tweets list above\n",
    "#tweets_df2 = pd.DataFrame(tweets_list2, columns=['Datetime', 'Tweet Id', 'Text', 'Username', 'Like Count', 'Display Name', 'Language'])\n",
    "tweets_df2 = pd.DataFrame(tweets_list2, columns=['Datetime', 'Text', 'Like Count', 'Language'])\n",
    "tweets_df2.to_csv('First Extract.csv')\n",
    "tweets_df2"
   ]
  },
  {
   "cell_type": "markdown",
   "id": "05dc0ae2",
   "metadata": {},
   "source": [
    "Let's select the messages written in english"
   ]
  },
  {
   "cell_type": "code",
   "execution_count": 3,
   "id": "92360039",
   "metadata": {},
   "outputs": [
    {
     "data": {
      "text/html": [
       "<div>\n",
       "<style scoped>\n",
       "    .dataframe tbody tr th:only-of-type {\n",
       "        vertical-align: middle;\n",
       "    }\n",
       "\n",
       "    .dataframe tbody tr th {\n",
       "        vertical-align: top;\n",
       "    }\n",
       "\n",
       "    .dataframe thead th {\n",
       "        text-align: right;\n",
       "    }\n",
       "</style>\n",
       "<table border=\"1\" class=\"dataframe\">\n",
       "  <thead>\n",
       "    <tr style=\"text-align: right;\">\n",
       "      <th></th>\n",
       "      <th>Datetime</th>\n",
       "      <th>Text</th>\n",
       "      <th>Like Count</th>\n",
       "      <th>Language</th>\n",
       "    </tr>\n",
       "  </thead>\n",
       "  <tbody>\n",
       "    <tr>\n",
       "      <th>1</th>\n",
       "      <td>2022-04-23 23:59:53+00:00</td>\n",
       "      <td>@netflix please this needs to be addressed on ...</td>\n",
       "      <td>3</td>\n",
       "      <td>en</td>\n",
       "    </tr>\n",
       "    <tr>\n",
       "      <th>2</th>\n",
       "      <td>2022-04-23 23:59:51+00:00</td>\n",
       "      <td>Havent decided. Why would I sell it when I can...</td>\n",
       "      <td>1</td>\n",
       "      <td>en</td>\n",
       "    </tr>\n",
       "    <tr>\n",
       "      <th>5</th>\n",
       "      <td>2022-04-23 23:59:44+00:00</td>\n",
       "      <td>@hopebble HEARTSTOPPER ON NETFLIX YOU SHOULD W...</td>\n",
       "      <td>0</td>\n",
       "      <td>en</td>\n",
       "    </tr>\n",
       "    <tr>\n",
       "      <th>6</th>\n",
       "      <td>2022-04-23 23:59:43+00:00</td>\n",
       "      <td>Netflix, are you rapidly trying to torch any g...</td>\n",
       "      <td>326</td>\n",
       "      <td>en</td>\n",
       "    </tr>\n",
       "    <tr>\n",
       "      <th>7</th>\n",
       "      <td>2022-04-23 23:59:43+00:00</td>\n",
       "      <td>Does @netflix really think anyone would watch ...</td>\n",
       "      <td>3</td>\n",
       "      <td>en</td>\n",
       "    </tr>\n",
       "    <tr>\n",
       "      <th>...</th>\n",
       "      <td>...</td>\n",
       "      <td>...</td>\n",
       "      <td>...</td>\n",
       "      <td>...</td>\n",
       "    </tr>\n",
       "    <tr>\n",
       "      <th>9995</th>\n",
       "      <td>2022-04-23 21:18:55+00:00</td>\n",
       "      <td>@adeleherox @iamigcio @netflix i feel bad agre...</td>\n",
       "      <td>1</td>\n",
       "      <td>en</td>\n",
       "    </tr>\n",
       "    <tr>\n",
       "      <th>9996</th>\n",
       "      <td>2022-04-23 21:18:54+00:00</td>\n",
       "      <td>Dont really care about all this Netflix talk. ...</td>\n",
       "      <td>9</td>\n",
       "      <td>en</td>\n",
       "    </tr>\n",
       "    <tr>\n",
       "      <th>9997</th>\n",
       "      <td>2022-04-23 21:18:54+00:00</td>\n",
       "      <td>Blockbuster to Netflix right now https://t.co/...</td>\n",
       "      <td>18</td>\n",
       "      <td>en</td>\n",
       "    </tr>\n",
       "    <tr>\n",
       "      <th>9999</th>\n",
       "      <td>2022-04-23 21:18:53+00:00</td>\n",
       "      <td>@Batboat77 @__premkumar__ @steusmotus Lmao. Ne...</td>\n",
       "      <td>3</td>\n",
       "      <td>en</td>\n",
       "    </tr>\n",
       "    <tr>\n",
       "      <th>10000</th>\n",
       "      <td>2022-04-23 21:18:50+00:00</td>\n",
       "      <td>@everytimeemilie it’s a comic, which was turne...</td>\n",
       "      <td>1</td>\n",
       "      <td>en</td>\n",
       "    </tr>\n",
       "  </tbody>\n",
       "</table>\n",
       "<p>5060 rows × 4 columns</p>\n",
       "</div>"
      ],
      "text/plain": [
       "                       Datetime  \\\n",
       "1     2022-04-23 23:59:53+00:00   \n",
       "2     2022-04-23 23:59:51+00:00   \n",
       "5     2022-04-23 23:59:44+00:00   \n",
       "6     2022-04-23 23:59:43+00:00   \n",
       "7     2022-04-23 23:59:43+00:00   \n",
       "...                         ...   \n",
       "9995  2022-04-23 21:18:55+00:00   \n",
       "9996  2022-04-23 21:18:54+00:00   \n",
       "9997  2022-04-23 21:18:54+00:00   \n",
       "9999  2022-04-23 21:18:53+00:00   \n",
       "10000 2022-04-23 21:18:50+00:00   \n",
       "\n",
       "                                                    Text  Like Count Language  \n",
       "1      @netflix please this needs to be addressed on ...           3       en  \n",
       "2      Havent decided. Why would I sell it when I can...           1       en  \n",
       "5      @hopebble HEARTSTOPPER ON NETFLIX YOU SHOULD W...           0       en  \n",
       "6      Netflix, are you rapidly trying to torch any g...         326       en  \n",
       "7      Does @netflix really think anyone would watch ...           3       en  \n",
       "...                                                  ...         ...      ...  \n",
       "9995   @adeleherox @iamigcio @netflix i feel bad agre...           1       en  \n",
       "9996   Dont really care about all this Netflix talk. ...           9       en  \n",
       "9997   Blockbuster to Netflix right now https://t.co/...          18       en  \n",
       "9999   @Batboat77 @__premkumar__ @steusmotus Lmao. Ne...           3       en  \n",
       "10000  @everytimeemilie it’s a comic, which was turne...           1       en  \n",
       "\n",
       "[5060 rows x 4 columns]"
      ]
     },
     "execution_count": 3,
     "metadata": {},
     "output_type": "execute_result"
    }
   ],
   "source": [
    "tweets_df2 = tweets_df2[tweets_df2['Language']=='en']\n",
    "tweets_df2"
   ]
  },
  {
   "cell_type": "markdown",
   "id": "ca0e4c63",
   "metadata": {},
   "source": [
    "We have to clean up a lot of errors and other special symbols because these tweets contain a lot of language errors"
   ]
  },
  {
   "cell_type": "code",
   "execution_count": 4,
   "id": "87558c7c",
   "metadata": {},
   "outputs": [
    {
     "name": "stderr",
     "output_type": "stream",
     "text": [
      "[nltk_data] Downloading package stopwords to\n",
      "[nltk_data]     C:\\Users\\ecermc\\AppData\\Roaming\\nltk_data...\n",
      "[nltk_data]   Package stopwords is already up-to-date!\n",
      "C:\\Users\\ecermc\\AppData\\Local\\Temp/ipykernel_11024/352844406.py:20: SettingWithCopyWarning: \n",
      "A value is trying to be set on a copy of a slice from a DataFrame.\n",
      "Try using .loc[row_indexer,col_indexer] = value instead\n",
      "\n",
      "See the caveats in the documentation: https://pandas.pydata.org/pandas-docs/stable/user_guide/indexing.html#returning-a-view-versus-a-copy\n",
      "  tweets_df2[\"Text\"] = tweets_df2[\"Text\"].apply(clean)\n"
     ]
    },
    {
     "data": {
      "text/html": [
       "<div>\n",
       "<style scoped>\n",
       "    .dataframe tbody tr th:only-of-type {\n",
       "        vertical-align: middle;\n",
       "    }\n",
       "\n",
       "    .dataframe tbody tr th {\n",
       "        vertical-align: top;\n",
       "    }\n",
       "\n",
       "    .dataframe thead th {\n",
       "        text-align: right;\n",
       "    }\n",
       "</style>\n",
       "<table border=\"1\" class=\"dataframe\">\n",
       "  <thead>\n",
       "    <tr style=\"text-align: right;\">\n",
       "      <th></th>\n",
       "      <th>Datetime</th>\n",
       "      <th>Text</th>\n",
       "      <th>Like Count</th>\n",
       "      <th>Language</th>\n",
       "    </tr>\n",
       "  </thead>\n",
       "  <tbody>\n",
       "    <tr>\n",
       "      <th>1</th>\n",
       "      <td>2022-04-23 23:59:53+00:00</td>\n",
       "      <td>netflix pleas need address sell sunset reunion</td>\n",
       "      <td>3</td>\n",
       "      <td>en</td>\n",
       "    </tr>\n",
       "    <tr>\n",
       "      <th>2</th>\n",
       "      <td>2022-04-23 23:59:51+00:00</td>\n",
       "      <td>havent decid would sell debutampcharg websit c...</td>\n",
       "      <td>1</td>\n",
       "      <td>en</td>\n",
       "    </tr>\n",
       "    <tr>\n",
       "      <th>5</th>\n",
       "      <td>2022-04-23 23:59:44+00:00</td>\n",
       "      <td>hopebbl heartstopp netflix watch idk</td>\n",
       "      <td>0</td>\n",
       "      <td>en</td>\n",
       "    </tr>\n",
       "    <tr>\n",
       "      <th>6</th>\n",
       "      <td>2022-04-23 23:59:43+00:00</td>\n",
       "      <td>netflix rapid tri torch goodwillwho make decis...</td>\n",
       "      <td>326</td>\n",
       "      <td>en</td>\n",
       "    </tr>\n",
       "    <tr>\n",
       "      <th>7</th>\n",
       "      <td>2022-04-23 23:59:43+00:00</td>\n",
       "      <td>netflix realli think anyon would watch selling...</td>\n",
       "      <td>3</td>\n",
       "      <td>en</td>\n",
       "    </tr>\n",
       "    <tr>\n",
       "      <th>...</th>\n",
       "      <td>...</td>\n",
       "      <td>...</td>\n",
       "      <td>...</td>\n",
       "      <td>...</td>\n",
       "    </tr>\n",
       "    <tr>\n",
       "      <th>9995</th>\n",
       "      <td>2022-04-23 21:18:55+00:00</td>\n",
       "      <td>adeleherox iamigcio netflix feel bad agre rele...</td>\n",
       "      <td>1</td>\n",
       "      <td>en</td>\n",
       "    </tr>\n",
       "    <tr>\n",
       "      <th>9996</th>\n",
       "      <td>2022-04-23 21:18:54+00:00</td>\n",
       "      <td>dont realli care netflix talk person dont real...</td>\n",
       "      <td>9</td>\n",
       "      <td>en</td>\n",
       "    </tr>\n",
       "    <tr>\n",
       "      <th>9997</th>\n",
       "      <td>2022-04-23 21:18:54+00:00</td>\n",
       "      <td>blockbust netflix right</td>\n",
       "      <td>18</td>\n",
       "      <td>en</td>\n",
       "    </tr>\n",
       "    <tr>\n",
       "      <th>9999</th>\n",
       "      <td>2022-04-23 21:18:53+00:00</td>\n",
       "      <td>premkumar steusmotus lmao netflix didnt lose ...</td>\n",
       "      <td>3</td>\n",
       "      <td>en</td>\n",
       "    </tr>\n",
       "    <tr>\n",
       "      <th>10000</th>\n",
       "      <td>2022-04-23 21:18:50+00:00</td>\n",
       "      <td>everytimeemili it comic turn netflix show recent</td>\n",
       "      <td>1</td>\n",
       "      <td>en</td>\n",
       "    </tr>\n",
       "  </tbody>\n",
       "</table>\n",
       "<p>5060 rows × 4 columns</p>\n",
       "</div>"
      ],
      "text/plain": [
       "                       Datetime  \\\n",
       "1     2022-04-23 23:59:53+00:00   \n",
       "2     2022-04-23 23:59:51+00:00   \n",
       "5     2022-04-23 23:59:44+00:00   \n",
       "6     2022-04-23 23:59:43+00:00   \n",
       "7     2022-04-23 23:59:43+00:00   \n",
       "...                         ...   \n",
       "9995  2022-04-23 21:18:55+00:00   \n",
       "9996  2022-04-23 21:18:54+00:00   \n",
       "9997  2022-04-23 21:18:54+00:00   \n",
       "9999  2022-04-23 21:18:53+00:00   \n",
       "10000 2022-04-23 21:18:50+00:00   \n",
       "\n",
       "                                                    Text  Like Count Language  \n",
       "1         netflix pleas need address sell sunset reunion           3       en  \n",
       "2      havent decid would sell debutampcharg websit c...           1       en  \n",
       "5                   hopebbl heartstopp netflix watch idk           0       en  \n",
       "6      netflix rapid tri torch goodwillwho make decis...         326       en  \n",
       "7      netflix realli think anyon would watch selling...           3       en  \n",
       "...                                                  ...         ...      ...  \n",
       "9995   adeleherox iamigcio netflix feel bad agre rele...           1       en  \n",
       "9996   dont realli care netflix talk person dont real...           9       en  \n",
       "9997                            blockbust netflix right           18       en  \n",
       "9999    premkumar steusmotus lmao netflix didnt lose ...           3       en  \n",
       "10000   everytimeemili it comic turn netflix show recent           1       en  \n",
       "\n",
       "[5060 rows x 4 columns]"
      ]
     },
     "execution_count": 4,
     "metadata": {},
     "output_type": "execute_result"
    }
   ],
   "source": [
    "\n",
    "nltk.download('stopwords')\n",
    "stemmer = nltk.SnowballStemmer(\"english\")\n",
    "from nltk.corpus import stopwords\n",
    "import string\n",
    "stopword=set(stopwords.words('english'))\n",
    "\n",
    "def clean(text):\n",
    "    text = str(text).lower()\n",
    "    text = re.sub('\\[.*?\\]', '', text)\n",
    "    text = re.sub('https?://\\S+|www\\.\\S+', '', text)\n",
    "    text = re.sub('<.*?>+', '', text)\n",
    "    text = re.sub('[%s]' % re.escape(string.punctuation), '', text)\n",
    "    text = re.sub('\\n', '', text)\n",
    "    text = re.sub('\\w*\\d\\w*', '', text)\n",
    "    text = [word for word in text.split(' ') if word not in stopword]\n",
    "    text=\" \".join(text)\n",
    "    text = [stemmer.stem(word) for word in text.split(' ')]\n",
    "    text=\" \".join(text)\n",
    "    return text\n",
    "tweets_df2[\"Text\"] = tweets_df2[\"Text\"].apply(clean)\n",
    "tweets_df2"
   ]
  },
  {
   "cell_type": "markdown",
   "id": "13adaf21",
   "metadata": {},
   "source": [
    "Let's visualize the word cloud for these tweets"
   ]
  },
  {
   "cell_type": "code",
   "execution_count": 5,
   "id": "55f4331f",
   "metadata": {},
   "outputs": [
    {
     "data": {
      "image/png": "[encoded data removed]",
      "text/plain": [
       "<PIL.Image.Image image mode=RGB size=400x200 at 0x29179741D60>"
      ]
     },
     "execution_count": 5,
     "metadata": {},
     "output_type": "execute_result"
    }
   ],
   "source": [
    "# Import the wordcloud library\n",
    "from wordcloud import WordCloud\n",
    "# Join the different processed titles together.\n",
    "long_string = ' '.join(list(tweets_df2['Text'].values))\n",
    "# Create a WordCloud object\n",
    "wordcloud = WordCloud(background_color=\"white\", max_words=5000, contour_width=3, contour_color='steelblue')\n",
    "# Generate a word cloud\n",
    "wordcloud.generate(long_string)\n",
    "# Visualize the word cloud\n",
    "wordcloud.to_image()"
   ]
  },
  {
   "cell_type": "markdown",
   "id": "cf3b39c1",
   "metadata": {},
   "source": [
    "Let's use nltk to calculate the sentiment scores of these tweets and assign a label to the tweets as positive, negative, or neutral"
   ]
  },
  {
   "cell_type": "code",
   "execution_count": 6,
   "id": "fa4c262f",
   "metadata": {},
   "outputs": [
    {
     "name": "stderr",
     "output_type": "stream",
     "text": [
      "[nltk_data] Downloading package vader_lexicon to\n",
      "[nltk_data]     C:\\Users\\ecermc\\AppData\\Roaming\\nltk_data...\n",
      "[nltk_data]   Package vader_lexicon is already up-to-date!\n",
      "C:\\Users\\ecermc\\AppData\\Local\\Temp/ipykernel_11024/2580992101.py:4: SettingWithCopyWarning: \n",
      "A value is trying to be set on a copy of a slice from a DataFrame.\n",
      "Try using .loc[row_indexer,col_indexer] = value instead\n",
      "\n",
      "See the caveats in the documentation: https://pandas.pydata.org/pandas-docs/stable/user_guide/indexing.html#returning-a-view-versus-a-copy\n",
      "  tweets_df2[\"Positive\"] = [sentiments.polarity_scores(i)[\"pos\"] for i in tweets_df2['Text']]\n",
      "C:\\Users\\ecermc\\AppData\\Local\\Temp/ipykernel_11024/2580992101.py:5: SettingWithCopyWarning: \n",
      "A value is trying to be set on a copy of a slice from a DataFrame.\n",
      "Try using .loc[row_indexer,col_indexer] = value instead\n",
      "\n",
      "See the caveats in the documentation: https://pandas.pydata.org/pandas-docs/stable/user_guide/indexing.html#returning-a-view-versus-a-copy\n",
      "  tweets_df2[\"Negative\"] = [sentiments.polarity_scores(i)[\"neg\"] for i in tweets_df2['Text']]\n",
      "C:\\Users\\ecermc\\AppData\\Local\\Temp/ipykernel_11024/2580992101.py:6: SettingWithCopyWarning: \n",
      "A value is trying to be set on a copy of a slice from a DataFrame.\n",
      "Try using .loc[row_indexer,col_indexer] = value instead\n",
      "\n",
      "See the caveats in the documentation: https://pandas.pydata.org/pandas-docs/stable/user_guide/indexing.html#returning-a-view-versus-a-copy\n",
      "  tweets_df2[\"Neutral\"] = [sentiments.polarity_scores(i)[\"neu\"] for i in tweets_df2['Text']]\n"
     ]
    },
    {
     "data": {
      "text/html": [
       "<div>\n",
       "<style scoped>\n",
       "    .dataframe tbody tr th:only-of-type {\n",
       "        vertical-align: middle;\n",
       "    }\n",
       "\n",
       "    .dataframe tbody tr th {\n",
       "        vertical-align: top;\n",
       "    }\n",
       "\n",
       "    .dataframe thead th {\n",
       "        text-align: right;\n",
       "    }\n",
       "</style>\n",
       "<table border=\"1\" class=\"dataframe\">\n",
       "  <thead>\n",
       "    <tr style=\"text-align: right;\">\n",
       "      <th></th>\n",
       "      <th>Datetime</th>\n",
       "      <th>Text</th>\n",
       "      <th>Like Count</th>\n",
       "      <th>Language</th>\n",
       "      <th>Positive</th>\n",
       "      <th>Negative</th>\n",
       "      <th>Neutral</th>\n",
       "    </tr>\n",
       "  </thead>\n",
       "  <tbody>\n",
       "    <tr>\n",
       "      <th>2</th>\n",
       "      <td>2022-04-23 23:59:51+00:00</td>\n",
       "      <td>havent decid would sell debutampcharg websit c...</td>\n",
       "      <td>1</td>\n",
       "      <td>en</td>\n",
       "      <td>0.155</td>\n",
       "      <td>0.000</td>\n",
       "      <td>0.845</td>\n",
       "    </tr>\n",
       "    <tr>\n",
       "      <th>5</th>\n",
       "      <td>2022-04-23 23:59:44+00:00</td>\n",
       "      <td>hopebbl heartstopp netflix watch idk</td>\n",
       "      <td>0</td>\n",
       "      <td>en</td>\n",
       "      <td>0.000</td>\n",
       "      <td>0.259</td>\n",
       "      <td>0.741</td>\n",
       "    </tr>\n",
       "    <tr>\n",
       "      <th>12</th>\n",
       "      <td>2022-04-23 23:59:39+00:00</td>\n",
       "      <td>never known joy like watch nice littl gay netf...</td>\n",
       "      <td>57</td>\n",
       "      <td>en</td>\n",
       "      <td>0.195</td>\n",
       "      <td>0.180</td>\n",
       "      <td>0.625</td>\n",
       "    </tr>\n",
       "    <tr>\n",
       "      <th>14</th>\n",
       "      <td>2022-04-23 23:59:36+00:00</td>\n",
       "      <td>les recomiendo seri de netflix ya para que dej...</td>\n",
       "      <td>4</td>\n",
       "      <td>en</td>\n",
       "      <td>0.081</td>\n",
       "      <td>0.000</td>\n",
       "      <td>0.919</td>\n",
       "    </tr>\n",
       "    <tr>\n",
       "      <th>15</th>\n",
       "      <td>2022-04-23 23:59:33+00:00</td>\n",
       "      <td>tltomljanov nycmidnight usual watch episod two...</td>\n",
       "      <td>0</td>\n",
       "      <td>en</td>\n",
       "      <td>0.200</td>\n",
       "      <td>0.000</td>\n",
       "      <td>0.800</td>\n",
       "    </tr>\n",
       "    <tr>\n",
       "      <th>...</th>\n",
       "      <td>...</td>\n",
       "      <td>...</td>\n",
       "      <td>...</td>\n",
       "      <td>...</td>\n",
       "      <td>...</td>\n",
       "      <td>...</td>\n",
       "      <td>...</td>\n",
       "    </tr>\n",
       "    <tr>\n",
       "      <th>9991</th>\n",
       "      <td>2022-04-23 21:18:58+00:00</td>\n",
       "      <td>read heartstopp webtoon rn better netflix seri...</td>\n",
       "      <td>3</td>\n",
       "      <td>en</td>\n",
       "      <td>0.266</td>\n",
       "      <td>0.000</td>\n",
       "      <td>0.734</td>\n",
       "    </tr>\n",
       "    <tr>\n",
       "      <th>9993</th>\n",
       "      <td>2022-04-23 21:18:56+00:00</td>\n",
       "      <td>sicken netflix bin class show issu  know teas ...</td>\n",
       "      <td>2</td>\n",
       "      <td>en</td>\n",
       "      <td>0.092</td>\n",
       "      <td>0.204</td>\n",
       "      <td>0.704</td>\n",
       "    </tr>\n",
       "    <tr>\n",
       "      <th>9995</th>\n",
       "      <td>2022-04-23 21:18:55+00:00</td>\n",
       "      <td>adeleherox iamigcio netflix feel bad agre rele...</td>\n",
       "      <td>1</td>\n",
       "      <td>en</td>\n",
       "      <td>0.000</td>\n",
       "      <td>0.333</td>\n",
       "      <td>0.667</td>\n",
       "    </tr>\n",
       "    <tr>\n",
       "      <th>9996</th>\n",
       "      <td>2022-04-23 21:18:54+00:00</td>\n",
       "      <td>dont realli care netflix talk person dont real...</td>\n",
       "      <td>9</td>\n",
       "      <td>en</td>\n",
       "      <td>0.139</td>\n",
       "      <td>0.122</td>\n",
       "      <td>0.740</td>\n",
       "    </tr>\n",
       "    <tr>\n",
       "      <th>9999</th>\n",
       "      <td>2022-04-23 21:18:53+00:00</td>\n",
       "      <td>premkumar steusmotus lmao netflix didnt lose ...</td>\n",
       "      <td>3</td>\n",
       "      <td>en</td>\n",
       "      <td>0.406</td>\n",
       "      <td>0.000</td>\n",
       "      <td>0.594</td>\n",
       "    </tr>\n",
       "  </tbody>\n",
       "</table>\n",
       "<p>3259 rows × 7 columns</p>\n",
       "</div>"
      ],
      "text/plain": [
       "                      Datetime  \\\n",
       "2    2022-04-23 23:59:51+00:00   \n",
       "5    2022-04-23 23:59:44+00:00   \n",
       "12   2022-04-23 23:59:39+00:00   \n",
       "14   2022-04-23 23:59:36+00:00   \n",
       "15   2022-04-23 23:59:33+00:00   \n",
       "...                        ...   \n",
       "9991 2022-04-23 21:18:58+00:00   \n",
       "9993 2022-04-23 21:18:56+00:00   \n",
       "9995 2022-04-23 21:18:55+00:00   \n",
       "9996 2022-04-23 21:18:54+00:00   \n",
       "9999 2022-04-23 21:18:53+00:00   \n",
       "\n",
       "                                                   Text  Like Count Language  \\\n",
       "2     havent decid would sell debutampcharg websit c...           1       en   \n",
       "5                  hopebbl heartstopp netflix watch idk           0       en   \n",
       "12    never known joy like watch nice littl gay netf...          57       en   \n",
       "14    les recomiendo seri de netflix ya para que dej...           4       en   \n",
       "15    tltomljanov nycmidnight usual watch episod two...           0       en   \n",
       "...                                                 ...         ...      ...   \n",
       "9991  read heartstopp webtoon rn better netflix seri...           3       en   \n",
       "9993  sicken netflix bin class show issu  know teas ...           2       en   \n",
       "9995  adeleherox iamigcio netflix feel bad agre rele...           1       en   \n",
       "9996  dont realli care netflix talk person dont real...           9       en   \n",
       "9999   premkumar steusmotus lmao netflix didnt lose ...           3       en   \n",
       "\n",
       "      Positive  Negative  Neutral  \n",
       "2        0.155     0.000    0.845  \n",
       "5        0.000     0.259    0.741  \n",
       "12       0.195     0.180    0.625  \n",
       "14       0.081     0.000    0.919  \n",
       "15       0.200     0.000    0.800  \n",
       "...        ...       ...      ...  \n",
       "9991     0.266     0.000    0.734  \n",
       "9993     0.092     0.204    0.704  \n",
       "9995     0.000     0.333    0.667  \n",
       "9996     0.139     0.122    0.740  \n",
       "9999     0.406     0.000    0.594  \n",
       "\n",
       "[3259 rows x 7 columns]"
      ]
     },
     "execution_count": 6,
     "metadata": {},
     "output_type": "execute_result"
    }
   ],
   "source": [
    "from nltk.sentiment.vader import SentimentIntensityAnalyzer\n",
    "nltk.download('vader_lexicon')\n",
    "sentiments = SentimentIntensityAnalyzer()\n",
    "tweets_df2[\"Positive\"] = [sentiments.polarity_scores(i)[\"pos\"] for i in tweets_df2['Text']]\n",
    "tweets_df2[\"Negative\"] = [sentiments.polarity_scores(i)[\"neg\"] for i in tweets_df2['Text']]\n",
    "tweets_df2[\"Neutral\"] = [sentiments.polarity_scores(i)[\"neu\"] for i in tweets_df2['Text']]\n",
    "tweets_df2 = tweets_df2.drop(tweets_df2[tweets_df2.Neutral == 1.0].index)\n",
    "tweets_df2"
   ]
  },
  {
   "cell_type": "code",
   "execution_count": 13,
   "id": "86f7740f",
   "metadata": {},
   "outputs": [
    {
     "data": {
      "text/html": [
       "<div>\n",
       "<style scoped>\n",
       "    .dataframe tbody tr th:only-of-type {\n",
       "        vertical-align: middle;\n",
       "    }\n",
       "\n",
       "    .dataframe tbody tr th {\n",
       "        vertical-align: top;\n",
       "    }\n",
       "\n",
       "    .dataframe thead th {\n",
       "        text-align: right;\n",
       "    }\n",
       "</style>\n",
       "<table border=\"1\" class=\"dataframe\">\n",
       "  <thead>\n",
       "    <tr style=\"text-align: right;\">\n",
       "      <th></th>\n",
       "      <th>Datetime</th>\n",
       "      <th>Text</th>\n",
       "      <th>Like Count</th>\n",
       "      <th>Language</th>\n",
       "      <th>Positive</th>\n",
       "      <th>Negative</th>\n",
       "      <th>Neutral</th>\n",
       "      <th>sentiment</th>\n",
       "    </tr>\n",
       "  </thead>\n",
       "  <tbody>\n",
       "    <tr>\n",
       "      <th>2</th>\n",
       "      <td>2022-04-23 23:59:51+00:00</td>\n",
       "      <td>havent decid would sell debutampcharg websit c...</td>\n",
       "      <td>1</td>\n",
       "      <td>en</td>\n",
       "      <td>0.155</td>\n",
       "      <td>0.000</td>\n",
       "      <td>0.845</td>\n",
       "      <td>Neutral</td>\n",
       "    </tr>\n",
       "    <tr>\n",
       "      <th>5</th>\n",
       "      <td>2022-04-23 23:59:44+00:00</td>\n",
       "      <td>hopebbl heartstopp netflix watch idk</td>\n",
       "      <td>0</td>\n",
       "      <td>en</td>\n",
       "      <td>0.000</td>\n",
       "      <td>0.259</td>\n",
       "      <td>0.741</td>\n",
       "      <td>Neutral</td>\n",
       "    </tr>\n",
       "    <tr>\n",
       "      <th>12</th>\n",
       "      <td>2022-04-23 23:59:39+00:00</td>\n",
       "      <td>never known joy like watch nice littl gay netf...</td>\n",
       "      <td>57</td>\n",
       "      <td>en</td>\n",
       "      <td>0.195</td>\n",
       "      <td>0.180</td>\n",
       "      <td>0.625</td>\n",
       "      <td>Neutral</td>\n",
       "    </tr>\n",
       "    <tr>\n",
       "      <th>14</th>\n",
       "      <td>2022-04-23 23:59:36+00:00</td>\n",
       "      <td>les recomiendo seri de netflix ya para que dej...</td>\n",
       "      <td>4</td>\n",
       "      <td>en</td>\n",
       "      <td>0.081</td>\n",
       "      <td>0.000</td>\n",
       "      <td>0.919</td>\n",
       "      <td>Neutral</td>\n",
       "    </tr>\n",
       "    <tr>\n",
       "      <th>15</th>\n",
       "      <td>2022-04-23 23:59:33+00:00</td>\n",
       "      <td>tltomljanov nycmidnight usual watch episod two...</td>\n",
       "      <td>0</td>\n",
       "      <td>en</td>\n",
       "      <td>0.200</td>\n",
       "      <td>0.000</td>\n",
       "      <td>0.800</td>\n",
       "      <td>Neutral</td>\n",
       "    </tr>\n",
       "    <tr>\n",
       "      <th>...</th>\n",
       "      <td>...</td>\n",
       "      <td>...</td>\n",
       "      <td>...</td>\n",
       "      <td>...</td>\n",
       "      <td>...</td>\n",
       "      <td>...</td>\n",
       "      <td>...</td>\n",
       "      <td>...</td>\n",
       "    </tr>\n",
       "    <tr>\n",
       "      <th>9991</th>\n",
       "      <td>2022-04-23 21:18:58+00:00</td>\n",
       "      <td>read heartstopp webtoon rn better netflix seri...</td>\n",
       "      <td>3</td>\n",
       "      <td>en</td>\n",
       "      <td>0.266</td>\n",
       "      <td>0.000</td>\n",
       "      <td>0.734</td>\n",
       "      <td>Neutral</td>\n",
       "    </tr>\n",
       "    <tr>\n",
       "      <th>9993</th>\n",
       "      <td>2022-04-23 21:18:56+00:00</td>\n",
       "      <td>sicken netflix bin class show issu  know teas ...</td>\n",
       "      <td>2</td>\n",
       "      <td>en</td>\n",
       "      <td>0.092</td>\n",
       "      <td>0.204</td>\n",
       "      <td>0.704</td>\n",
       "      <td>Neutral</td>\n",
       "    </tr>\n",
       "    <tr>\n",
       "      <th>9995</th>\n",
       "      <td>2022-04-23 21:18:55+00:00</td>\n",
       "      <td>adeleherox iamigcio netflix feel bad agre rele...</td>\n",
       "      <td>1</td>\n",
       "      <td>en</td>\n",
       "      <td>0.000</td>\n",
       "      <td>0.333</td>\n",
       "      <td>0.667</td>\n",
       "      <td>Neutral</td>\n",
       "    </tr>\n",
       "    <tr>\n",
       "      <th>9996</th>\n",
       "      <td>2022-04-23 21:18:54+00:00</td>\n",
       "      <td>dont realli care netflix talk person dont real...</td>\n",
       "      <td>9</td>\n",
       "      <td>en</td>\n",
       "      <td>0.139</td>\n",
       "      <td>0.122</td>\n",
       "      <td>0.740</td>\n",
       "      <td>Neutral</td>\n",
       "    </tr>\n",
       "    <tr>\n",
       "      <th>9999</th>\n",
       "      <td>2022-04-23 21:18:53+00:00</td>\n",
       "      <td>premkumar steusmotus lmao netflix didnt lose ...</td>\n",
       "      <td>3</td>\n",
       "      <td>en</td>\n",
       "      <td>0.406</td>\n",
       "      <td>0.000</td>\n",
       "      <td>0.594</td>\n",
       "      <td>Neutral</td>\n",
       "    </tr>\n",
       "  </tbody>\n",
       "</table>\n",
       "<p>3259 rows × 8 columns</p>\n",
       "</div>"
      ],
      "text/plain": [
       "                      Datetime  \\\n",
       "2    2022-04-23 23:59:51+00:00   \n",
       "5    2022-04-23 23:59:44+00:00   \n",
       "12   2022-04-23 23:59:39+00:00   \n",
       "14   2022-04-23 23:59:36+00:00   \n",
       "15   2022-04-23 23:59:33+00:00   \n",
       "...                        ...   \n",
       "9991 2022-04-23 21:18:58+00:00   \n",
       "9993 2022-04-23 21:18:56+00:00   \n",
       "9995 2022-04-23 21:18:55+00:00   \n",
       "9996 2022-04-23 21:18:54+00:00   \n",
       "9999 2022-04-23 21:18:53+00:00   \n",
       "\n",
       "                                                   Text  Like Count Language  \\\n",
       "2     havent decid would sell debutampcharg websit c...           1       en   \n",
       "5                  hopebbl heartstopp netflix watch idk           0       en   \n",
       "12    never known joy like watch nice littl gay netf...          57       en   \n",
       "14    les recomiendo seri de netflix ya para que dej...           4       en   \n",
       "15    tltomljanov nycmidnight usual watch episod two...           0       en   \n",
       "...                                                 ...         ...      ...   \n",
       "9991  read heartstopp webtoon rn better netflix seri...           3       en   \n",
       "9993  sicken netflix bin class show issu  know teas ...           2       en   \n",
       "9995  adeleherox iamigcio netflix feel bad agre rele...           1       en   \n",
       "9996  dont realli care netflix talk person dont real...           9       en   \n",
       "9999   premkumar steusmotus lmao netflix didnt lose ...           3       en   \n",
       "\n",
       "      Positive  Negative  Neutral sentiment  \n",
       "2        0.155     0.000    0.845   Neutral  \n",
       "5        0.000     0.259    0.741   Neutral  \n",
       "12       0.195     0.180    0.625   Neutral  \n",
       "14       0.081     0.000    0.919   Neutral  \n",
       "15       0.200     0.000    0.800   Neutral  \n",
       "...        ...       ...      ...       ...  \n",
       "9991     0.266     0.000    0.734   Neutral  \n",
       "9993     0.092     0.204    0.704   Neutral  \n",
       "9995     0.000     0.333    0.667   Neutral  \n",
       "9996     0.139     0.122    0.740   Neutral  \n",
       "9999     0.406     0.000    0.594   Neutral  \n",
       "\n",
       "[3259 rows x 8 columns]"
      ]
     },
     "execution_count": 13,
     "metadata": {},
     "output_type": "execute_result"
    }
   ],
   "source": [
    "def label_sentiment (row):\n",
    "    if (row['Positive'] > row['Neutral']):\n",
    "        if (row['Positive'] > row['Negative']):\n",
    "            return 'Positive'\n",
    "        else:\n",
    "            return 'Negative'\n",
    "    else:\n",
    "        if (row['Negative'] > row['Neutral']):\n",
    "            return 'Negative'\n",
    "        else:\n",
    "            return 'Neutral'\n",
    "tweets_df2['sentiment'] = tweets_df2.apply (lambda row: label_sentiment(row), axis=1)\n",
    "\n",
    "tweets_df2"
   ]
  },
  {
   "cell_type": "code",
   "execution_count": 14,
   "id": "1ae0012b",
   "metadata": {},
   "outputs": [
    {
     "data": {
      "text/html": [
       "<div>\n",
       "<style scoped>\n",
       "    .dataframe tbody tr th:only-of-type {\n",
       "        vertical-align: middle;\n",
       "    }\n",
       "\n",
       "    .dataframe tbody tr th {\n",
       "        vertical-align: top;\n",
       "    }\n",
       "\n",
       "    .dataframe thead th {\n",
       "        text-align: right;\n",
       "    }\n",
       "</style>\n",
       "<table border=\"1\" class=\"dataframe\">\n",
       "  <thead>\n",
       "    <tr style=\"text-align: right;\">\n",
       "      <th></th>\n",
       "      <th>Like Count</th>\n",
       "      <th>Positive</th>\n",
       "      <th>Negative</th>\n",
       "      <th>Neutral</th>\n",
       "    </tr>\n",
       "    <tr>\n",
       "      <th>sentiment</th>\n",
       "      <th></th>\n",
       "      <th></th>\n",
       "      <th></th>\n",
       "      <th></th>\n",
       "    </tr>\n",
       "  </thead>\n",
       "  <tbody>\n",
       "    <tr>\n",
       "      <th>Negative</th>\n",
       "      <td>3.497143</td>\n",
       "      <td>0.052737</td>\n",
       "      <td>0.581749</td>\n",
       "      <td>0.365531</td>\n",
       "    </tr>\n",
       "    <tr>\n",
       "      <th>Neutral</th>\n",
       "      <td>16.209390</td>\n",
       "      <td>0.179201</td>\n",
       "      <td>0.131760</td>\n",
       "      <td>0.689037</td>\n",
       "    </tr>\n",
       "    <tr>\n",
       "      <th>Positive</th>\n",
       "      <td>4.277108</td>\n",
       "      <td>0.546572</td>\n",
       "      <td>0.061639</td>\n",
       "      <td>0.391765</td>\n",
       "    </tr>\n",
       "  </tbody>\n",
       "</table>\n",
       "</div>"
      ],
      "text/plain": [
       "           Like Count  Positive  Negative   Neutral\n",
       "sentiment                                          \n",
       "Negative     3.497143  0.052737  0.581749  0.365531\n",
       "Neutral     16.209390  0.179201  0.131760  0.689037\n",
       "Positive     4.277108  0.546572  0.061639  0.391765"
      ]
     },
     "execution_count": 14,
     "metadata": {},
     "output_type": "execute_result"
    }
   ],
   "source": [
    "tweets_df2.groupby(by=\"sentiment\").mean()"
   ]
  },
  {
   "cell_type": "code",
   "execution_count": 15,
   "id": "ab39afb9",
   "metadata": {},
   "outputs": [
    {
     "data": {
      "text/html": [
       "<style  type=\"text/css\" >\n",
       "#T_81ce9684_c48b_11ec_a170_645d867f5354row0_col1{\n",
       "            background-color:  #3f007d;\n",
       "            color:  #f1f1f1;\n",
       "        }#T_81ce9684_c48b_11ec_a170_645d867f5354row1_col1,#T_81ce9684_c48b_11ec_a170_645d867f5354row2_col1{\n",
       "            background-color:  #fcfbfd;\n",
       "            color:  #000000;\n",
       "        }</style><table id=\"T_81ce9684_c48b_11ec_a170_645d867f5354\" ><thead>    <tr>        <th class=\"blank level0\" ></th>        <th class=\"col_heading level0 col0\" >sentiment</th>        <th class=\"col_heading level0 col1\" >Text</th>    </tr></thead><tbody>\n",
       "                <tr>\n",
       "                        <th id=\"T_81ce9684_c48b_11ec_a170_645d867f5354level0_row0\" class=\"row_heading level0 row0\" >1</th>\n",
       "                        <td id=\"T_81ce9684_c48b_11ec_a170_645d867f5354row0_col0\" class=\"data row0 col0\" >Neutral</td>\n",
       "                        <td id=\"T_81ce9684_c48b_11ec_a170_645d867f5354row0_col1\" class=\"data row0 col1\" >2918</td>\n",
       "            </tr>\n",
       "            <tr>\n",
       "                        <th id=\"T_81ce9684_c48b_11ec_a170_645d867f5354level0_row1\" class=\"row_heading level0 row1\" >0</th>\n",
       "                        <td id=\"T_81ce9684_c48b_11ec_a170_645d867f5354row1_col0\" class=\"data row1 col0\" >Negative</td>\n",
       "                        <td id=\"T_81ce9684_c48b_11ec_a170_645d867f5354row1_col1\" class=\"data row1 col1\" >175</td>\n",
       "            </tr>\n",
       "            <tr>\n",
       "                        <th id=\"T_81ce9684_c48b_11ec_a170_645d867f5354level0_row2\" class=\"row_heading level0 row2\" >2</th>\n",
       "                        <td id=\"T_81ce9684_c48b_11ec_a170_645d867f5354row2_col0\" class=\"data row2 col0\" >Positive</td>\n",
       "                        <td id=\"T_81ce9684_c48b_11ec_a170_645d867f5354row2_col1\" class=\"data row2 col1\" >166</td>\n",
       "            </tr>\n",
       "    </tbody></table>"
      ],
      "text/plain": [
       "<pandas.io.formats.style.Styler at 0x29173078f10>"
      ]
     },
     "execution_count": 15,
     "metadata": {},
     "output_type": "execute_result"
    }
   ],
   "source": [
    "temp = tweets_df2.groupby('sentiment').count()['Text'].reset_index().sort_values(by='Text',ascending=False)\n",
    "temp.style.background_gradient(cmap='Purples')"
   ]
  },
  {
   "cell_type": "markdown",
   "id": "fcbc4394",
   "metadata": {},
   "source": [
    "Let's visualize the number of the different sentiments"
   ]
  },
  {
   "cell_type": "code",
   "execution_count": 16,
   "id": "51d0cb9a",
   "metadata": {},
   "outputs": [
    {
     "data": {
      "application/vnd.plotly.v1+json": {
       "config": {
        "plotlyServerURL": "https://plot.ly"
       },
       "data": [
        {
         "text": [
          "Neutral",
          "Negative",
          "Positive"
         ],
         "title": {
          "position": "top center",
          "text": "Funnel-Chart of Sentiment Distribution"
         },
         "type": "funnelarea",
         "values": [
          2918,
          175,
          166
         ]
        }
       ],
       "layout": {
        "template": {
         "data": {
          "bar": [
           {
            "error_x": {
             "color": "#2a3f5f"
            },
            "error_y": {
             "color": "#2a3f5f"
            },
            "marker": {
             "line": {
              "color": "#E5ECF6",
              "width": 0.5
             },
             "pattern": {
              "fillmode": "overlay",
              "size": 10,
              "solidity": 0.2
             }
            },
            "type": "bar"
           }
          ],
          "barpolar": [
           {
            "marker": {
             "line": {
              "color": "#E5ECF6",
              "width": 0.5
             },
             "pattern": {
              "fillmode": "overlay",
              "size": 10,
              "solidity": 0.2
             }
            },
            "type": "barpolar"
           }
          ],
          "carpet": [
           {
            "aaxis": {
             "endlinecolor": "#2a3f5f",
             "gridcolor": "white",
             "linecolor": "white",
             "minorgridcolor": "white",
             "startlinecolor": "#2a3f5f"
            },
            "baxis": {
             "endlinecolor": "#2a3f5f",
             "gridcolor": "white",
             "linecolor": "white",
             "minorgridcolor": "white",
             "startlinecolor": "#2a3f5f"
            },
            "type": "carpet"
           }
          ],
          "choropleth": [
           {
            "colorbar": {
             "outlinewidth": 0,
             "ticks": ""
            },
            "type": "choropleth"
           }
          ],
          "contour": [
           {
            "colorbar": {
             "outlinewidth": 0,
             "ticks": ""
            },
            "colorscale": [
             [
              0,
              "#0d0887"
             ],
             [
              0.1111111111111111,
              "#46039f"
             ],
             [
              0.2222222222222222,
              "#7201a8"
             ],
             [
              0.3333333333333333,
              "#9c179e"
             ],
             [
              0.4444444444444444,
              "#bd3786"
             ],
             [
              0.5555555555555556,
              "#d8576b"
             ],
             [
              0.6666666666666666,
              "#ed7953"
             ],
             [
              0.7777777777777778,
              "#fb9f3a"
             ],
             [
              0.8888888888888888,
              "#fdca26"
             ],
             [
              1,
              "#f0f921"
             ]
            ],
            "type": "contour"
           }
          ],
          "contourcarpet": [
           {
            "colorbar": {
             "outlinewidth": 0,
             "ticks": ""
            },
            "type": "contourcarpet"
           }
          ],
          "heatmap": [
           {
            "colorbar": {
             "outlinewidth": 0,
             "ticks": ""
            },
            "colorscale": [
             [
              0,
              "#0d0887"
             ],
             [
              0.1111111111111111,
              "#46039f"
             ],
             [
              0.2222222222222222,
              "#7201a8"
             ],
             [
              0.3333333333333333,
              "#9c179e"
             ],
             [
              0.4444444444444444,
              "#bd3786"
             ],
             [
              0.5555555555555556,
              "#d8576b"
             ],
             [
              0.6666666666666666,
              "#ed7953"
             ],
             [
              0.7777777777777778,
              "#fb9f3a"
             ],
             [
              0.8888888888888888,
              "#fdca26"
             ],
             [
              1,
              "#f0f921"
             ]
            ],
            "type": "heatmap"
           }
          ],
          "heatmapgl": [
           {
            "colorbar": {
             "outlinewidth": 0,
             "ticks": ""
            },
            "colorscale": [
             [
              0,
              "#0d0887"
             ],
             [
              0.1111111111111111,
              "#46039f"
             ],
             [
              0.2222222222222222,
              "#7201a8"
             ],
             [
              0.3333333333333333,
              "#9c179e"
             ],
             [
              0.4444444444444444,
              "#bd3786"
             ],
             [
              0.5555555555555556,
              "#d8576b"
             ],
             [
              0.6666666666666666,
              "#ed7953"
             ],
             [
              0.7777777777777778,
              "#fb9f3a"
             ],
             [
              0.8888888888888888,
              "#fdca26"
             ],
             [
              1,
              "#f0f921"
             ]
            ],
            "type": "heatmapgl"
           }
          ],
          "histogram": [
           {
            "marker": {
             "pattern": {
              "fillmode": "overlay",
              "size": 10,
              "solidity": 0.2
             }
            },
            "type": "histogram"
           }
          ],
          "histogram2d": [
           {
            "colorbar": {
             "outlinewidth": 0,
             "ticks": ""
            },
            "colorscale": [
             [
              0,
              "#0d0887"
             ],
             [
              0.1111111111111111,
              "#46039f"
             ],
             [
              0.2222222222222222,
              "#7201a8"
             ],
             [
              0.3333333333333333,
              "#9c179e"
             ],
             [
              0.4444444444444444,
              "#bd3786"
             ],
             [
              0.5555555555555556,
              "#d8576b"
             ],
             [
              0.6666666666666666,
              "#ed7953"
             ],
             [
              0.7777777777777778,
              "#fb9f3a"
             ],
             [
              0.8888888888888888,
              "#fdca26"
             ],
             [
              1,
              "#f0f921"
             ]
            ],
            "type": "histogram2d"
           }
          ],
          "histogram2dcontour": [
           {
            "colorbar": {
             "outlinewidth": 0,
             "ticks": ""
            },
            "colorscale": [
             [
              0,
              "#0d0887"
             ],
             [
              0.1111111111111111,
              "#46039f"
             ],
             [
              0.2222222222222222,
              "#7201a8"
             ],
             [
              0.3333333333333333,
              "#9c179e"
             ],
             [
              0.4444444444444444,
              "#bd3786"
             ],
             [
              0.5555555555555556,
              "#d8576b"
             ],
             [
              0.6666666666666666,
              "#ed7953"
             ],
             [
              0.7777777777777778,
              "#fb9f3a"
             ],
             [
              0.8888888888888888,
              "#fdca26"
             ],
             [
              1,
              "#f0f921"
             ]
            ],
            "type": "histogram2dcontour"
           }
          ],
          "mesh3d": [
           {
            "colorbar": {
             "outlinewidth": 0,
             "ticks": ""
            },
            "type": "mesh3d"
           }
          ],
          "parcoords": [
           {
            "line": {
             "colorbar": {
              "outlinewidth": 0,
              "ticks": ""
             }
            },
            "type": "parcoords"
           }
          ],
          "pie": [
           {
            "automargin": true,
            "type": "pie"
           }
          ],
          "scatter": [
           {
            "marker": {
             "colorbar": {
              "outlinewidth": 0,
              "ticks": ""
             }
            },
            "type": "scatter"
           }
          ],
          "scatter3d": [
           {
            "line": {
             "colorbar": {
              "outlinewidth": 0,
              "ticks": ""
             }
            },
            "marker": {
             "colorbar": {
              "outlinewidth": 0,
              "ticks": ""
             }
            },
            "type": "scatter3d"
           }
          ],
          "scattercarpet": [
           {
            "marker": {
             "colorbar": {
              "outlinewidth": 0,
              "ticks": ""
             }
            },
            "type": "scattercarpet"
           }
          ],
          "scattergeo": [
           {
            "marker": {
             "colorbar": {
              "outlinewidth": 0,
              "ticks": ""
             }
            },
            "type": "scattergeo"
           }
          ],
          "scattergl": [
           {
            "marker": {
             "colorbar": {
              "outlinewidth": 0,
              "ticks": ""
             }
            },
            "type": "scattergl"
           }
          ],
          "scattermapbox": [
           {
            "marker": {
             "colorbar": {
              "outlinewidth": 0,
              "ticks": ""
             }
            },
            "type": "scattermapbox"
           }
          ],
          "scatterpolar": [
           {
            "marker": {
             "colorbar": {
              "outlinewidth": 0,
              "ticks": ""
             }
            },
            "type": "scatterpolar"
           }
          ],
          "scatterpolargl": [
           {
            "marker": {
             "colorbar": {
              "outlinewidth": 0,
              "ticks": ""
             }
            },
            "type": "scatterpolargl"
           }
          ],
          "scatterternary": [
           {
            "marker": {
             "colorbar": {
              "outlinewidth": 0,
              "ticks": ""
             }
            },
            "type": "scatterternary"
           }
          ],
          "surface": [
           {
            "colorbar": {
             "outlinewidth": 0,
             "ticks": ""
            },
            "colorscale": [
             [
              0,
              "#0d0887"
             ],
             [
              0.1111111111111111,
              "#46039f"
             ],
             [
              0.2222222222222222,
              "#7201a8"
             ],
             [
              0.3333333333333333,
              "#9c179e"
             ],
             [
              0.4444444444444444,
              "#bd3786"
             ],
             [
              0.5555555555555556,
              "#d8576b"
             ],
             [
              0.6666666666666666,
              "#ed7953"
             ],
             [
              0.7777777777777778,
              "#fb9f3a"
             ],
             [
              0.8888888888888888,
              "#fdca26"
             ],
             [
              1,
              "#f0f921"
             ]
            ],
            "type": "surface"
           }
          ],
          "table": [
           {
            "cells": {
             "fill": {
              "color": "#EBF0F8"
             },
             "line": {
              "color": "white"
             }
            },
            "header": {
             "fill": {
              "color": "#C8D4E3"
             },
             "line": {
              "color": "white"
             }
            },
            "type": "table"
           }
          ]
         },
         "layout": {
          "annotationdefaults": {
           "arrowcolor": "#2a3f5f",
           "arrowhead": 0,
           "arrowwidth": 1
          },
          "autotypenumbers": "strict",
          "coloraxis": {
           "colorbar": {
            "outlinewidth": 0,
            "ticks": ""
           }
          },
          "colorscale": {
           "diverging": [
            [
             0,
             "#8e0152"
            ],
            [
             0.1,
             "#c51b7d"
            ],
            [
             0.2,
             "#de77ae"
            ],
            [
             0.3,
             "#f1b6da"
            ],
            [
             0.4,
             "#fde0ef"
            ],
            [
             0.5,
             "#f7f7f7"
            ],
            [
             0.6,
             "#e6f5d0"
            ],
            [
             0.7,
             "#b8e186"
            ],
            [
             0.8,
             "#7fbc41"
            ],
            [
             0.9,
             "#4d9221"
            ],
            [
             1,
             "#276419"
            ]
           ],
           "sequential": [
            [
             0,
             "#0d0887"
            ],
            [
             0.1111111111111111,
             "#46039f"
            ],
            [
             0.2222222222222222,
             "#7201a8"
            ],
            [
             0.3333333333333333,
             "#9c179e"
            ],
            [
             0.4444444444444444,
             "#bd3786"
            ],
            [
             0.5555555555555556,
             "#d8576b"
            ],
            [
             0.6666666666666666,
             "#ed7953"
            ],
            [
             0.7777777777777778,
             "#fb9f3a"
            ],
            [
             0.8888888888888888,
             "#fdca26"
            ],
            [
             1,
             "#f0f921"
            ]
           ],
           "sequentialminus": [
            [
             0,
             "#0d0887"
            ],
            [
             0.1111111111111111,
             "#46039f"
            ],
            [
             0.2222222222222222,
             "#7201a8"
            ],
            [
             0.3333333333333333,
             "#9c179e"
            ],
            [
             0.4444444444444444,
             "#bd3786"
            ],
            [
             0.5555555555555556,
             "#d8576b"
            ],
            [
             0.6666666666666666,
             "#ed7953"
            ],
            [
             0.7777777777777778,
             "#fb9f3a"
            ],
            [
             0.8888888888888888,
             "#fdca26"
            ],
            [
             1,
             "#f0f921"
            ]
           ]
          },
          "colorway": [
           "#636efa",
           "#EF553B",
           "#00cc96",
           "#ab63fa",
           "#FFA15A",
           "#19d3f3",
           "#FF6692",
           "#B6E880",
           "#FF97FF",
           "#FECB52"
          ],
          "font": {
           "color": "#2a3f5f"
          },
          "geo": {
           "bgcolor": "white",
           "lakecolor": "white",
           "landcolor": "#E5ECF6",
           "showlakes": true,
           "showland": true,
           "subunitcolor": "white"
          },
          "hoverlabel": {
           "align": "left"
          },
          "hovermode": "closest",
          "mapbox": {
           "style": "light"
          },
          "paper_bgcolor": "white",
          "plot_bgcolor": "#E5ECF6",
          "polar": {
           "angularaxis": {
            "gridcolor": "white",
            "linecolor": "white",
            "ticks": ""
           },
           "bgcolor": "#E5ECF6",
           "radialaxis": {
            "gridcolor": "white",
            "linecolor": "white",
            "ticks": ""
           }
          },
          "scene": {
           "xaxis": {
            "backgroundcolor": "#E5ECF6",
            "gridcolor": "white",
            "gridwidth": 2,
            "linecolor": "white",
            "showbackground": true,
            "ticks": "",
            "zerolinecolor": "white"
           },
           "yaxis": {
            "backgroundcolor": "#E5ECF6",
            "gridcolor": "white",
            "gridwidth": 2,
            "linecolor": "white",
            "showbackground": true,
            "ticks": "",
            "zerolinecolor": "white"
           },
           "zaxis": {
            "backgroundcolor": "#E5ECF6",
            "gridcolor": "white",
            "gridwidth": 2,
            "linecolor": "white",
            "showbackground": true,
            "ticks": "",
            "zerolinecolor": "white"
           }
          },
          "shapedefaults": {
           "line": {
            "color": "#2a3f5f"
           }
          },
          "ternary": {
           "aaxis": {
            "gridcolor": "white",
            "linecolor": "white",
            "ticks": ""
           },
           "baxis": {
            "gridcolor": "white",
            "linecolor": "white",
            "ticks": ""
           },
           "bgcolor": "#E5ECF6",
           "caxis": {
            "gridcolor": "white",
            "linecolor": "white",
            "ticks": ""
           }
          },
          "title": {
           "x": 0.05
          },
          "xaxis": {
           "automargin": true,
           "gridcolor": "white",
           "linecolor": "white",
           "ticks": "",
           "title": {
            "standoff": 15
           },
           "zerolinecolor": "white",
           "zerolinewidth": 2
          },
          "yaxis": {
           "automargin": true,
           "gridcolor": "white",
           "linecolor": "white",
           "ticks": "",
           "title": {
            "standoff": 15
           },
           "zerolinecolor": "white",
           "zerolinewidth": 2
          }
         }
        }
       }
      },
      "text/html": [
       "<div>                            <div id=\"0d867e7c-471c-4808-8f77-90d62a78c4e6\" class=\"plotly-graph-div\" style=\"height:525px; width:100%;\"></div>            <script type=\"text/javascript\">                require([\"plotly\"], function(Plotly) {                    window.PLOTLYENV=window.PLOTLYENV || {};                                    if (document.getElementById(\"0d867e7c-471c-4808-8f77-90d62a78c4e6\")) {                    Plotly.newPlot(                        \"0d867e7c-471c-4808-8f77-90d62a78c4e6\",                        [{\"text\":[\"Neutral\",\"Negative\",\"Positive\"],\"title\":{\"position\":\"top center\",\"text\":\"Funnel-Chart of Sentiment Distribution\"},\"values\":[2918,175,166],\"type\":\"funnelarea\"}],                        {\"template\":{\"data\":{\"bar\":[{\"error_x\":{\"color\":\"#2a3f5f\"},\"error_y\":{\"color\":\"#2a3f5f\"},\"marker\":{\"line\":{\"color\":\"#E5ECF6\",\"width\":0.5},\"pattern\":{\"fillmode\":\"overlay\",\"size\":10,\"solidity\":0.2}},\"type\":\"bar\"}],\"barpolar\":[{\"marker\":{\"line\":{\"color\":\"#E5ECF6\",\"width\":0.5},\"pattern\":{\"fillmode\":\"overlay\",\"size\":10,\"solidity\":0.2}},\"type\":\"barpolar\"}],\"carpet\":[{\"aaxis\":{\"endlinecolor\":\"#2a3f5f\",\"gridcolor\":\"white\",\"linecolor\":\"white\",\"minorgridcolor\":\"white\",\"startlinecolor\":\"#2a3f5f\"},\"baxis\":{\"endlinecolor\":\"#2a3f5f\",\"gridcolor\":\"white\",\"linecolor\":\"white\",\"minorgridcolor\":\"white\",\"startlinecolor\":\"#2a3f5f\"},\"type\":\"carpet\"}],\"choropleth\":[{\"colorbar\":{\"outlinewidth\":0,\"ticks\":\"\"},\"type\":\"choropleth\"}],\"contour\":[{\"colorbar\":{\"outlinewidth\":0,\"ticks\":\"\"},\"colorscale\":[[0.0,\"#0d0887\"],[0.1111111111111111,\"#46039f\"],[0.2222222222222222,\"#7201a8\"],[0.3333333333333333,\"#9c179e\"],[0.4444444444444444,\"#bd3786\"],[0.5555555555555556,\"#d8576b\"],[0.6666666666666666,\"#ed7953\"],[0.7777777777777778,\"#fb9f3a\"],[0.8888888888888888,\"#fdca26\"],[1.0,\"#f0f921\"]],\"type\":\"contour\"}],\"contourcarpet\":[{\"colorbar\":{\"outlinewidth\":0,\"ticks\":\"\"},\"type\":\"contourcarpet\"}],\"heatmap\":[{\"colorbar\":{\"outlinewidth\":0,\"ticks\":\"\"},\"colorscale\":[[0.0,\"#0d0887\"],[0.1111111111111111,\"#46039f\"],[0.2222222222222222,\"#7201a8\"],[0.3333333333333333,\"#9c179e\"],[0.4444444444444444,\"#bd3786\"],[0.5555555555555556,\"#d8576b\"],[0.6666666666666666,\"#ed7953\"],[0.7777777777777778,\"#fb9f3a\"],[0.8888888888888888,\"#fdca26\"],[1.0,\"#f0f921\"]],\"type\":\"heatmap\"}],\"heatmapgl\":[{\"colorbar\":{\"outlinewidth\":0,\"ticks\":\"\"},\"colorscale\":[[0.0,\"#0d0887\"],[0.1111111111111111,\"#46039f\"],[0.2222222222222222,\"#7201a8\"],[0.3333333333333333,\"#9c179e\"],[0.4444444444444444,\"#bd3786\"],[0.5555555555555556,\"#d8576b\"],[0.6666666666666666,\"#ed7953\"],[0.7777777777777778,\"#fb9f3a\"],[0.8888888888888888,\"#fdca26\"],[1.0,\"#f0f921\"]],\"type\":\"heatmapgl\"}],\"histogram\":[{\"marker\":{\"pattern\":{\"fillmode\":\"overlay\",\"size\":10,\"solidity\":0.2}},\"type\":\"histogram\"}],\"histogram2d\":[{\"colorbar\":{\"outlinewidth\":0,\"ticks\":\"\"},\"colorscale\":[[0.0,\"#0d0887\"],[0.1111111111111111,\"#46039f\"],[0.2222222222222222,\"#7201a8\"],[0.3333333333333333,\"#9c179e\"],[0.4444444444444444,\"#bd3786\"],[0.5555555555555556,\"#d8576b\"],[0.6666666666666666,\"#ed7953\"],[0.7777777777777778,\"#fb9f3a\"],[0.8888888888888888,\"#fdca26\"],[1.0,\"#f0f921\"]],\"type\":\"histogram2d\"}],\"histogram2dcontour\":[{\"colorbar\":{\"outlinewidth\":0,\"ticks\":\"\"},\"colorscale\":[[0.0,\"#0d0887\"],[0.1111111111111111,\"#46039f\"],[0.2222222222222222,\"#7201a8\"],[0.3333333333333333,\"#9c179e\"],[0.4444444444444444,\"#bd3786\"],[0.5555555555555556,\"#d8576b\"],[0.6666666666666666,\"#ed7953\"],[0.7777777777777778,\"#fb9f3a\"],[0.8888888888888888,\"#fdca26\"],[1.0,\"#f0f921\"]],\"type\":\"histogram2dcontour\"}],\"mesh3d\":[{\"colorbar\":{\"outlinewidth\":0,\"ticks\":\"\"},\"type\":\"mesh3d\"}],\"parcoords\":[{\"line\":{\"colorbar\":{\"outlinewidth\":0,\"ticks\":\"\"}},\"type\":\"parcoords\"}],\"pie\":[{\"automargin\":true,\"type\":\"pie\"}],\"scatter\":[{\"marker\":{\"colorbar\":{\"outlinewidth\":0,\"ticks\":\"\"}},\"type\":\"scatter\"}],\"scatter3d\":[{\"line\":{\"colorbar\":{\"outlinewidth\":0,\"ticks\":\"\"}},\"marker\":{\"colorbar\":{\"outlinewidth\":0,\"ticks\":\"\"}},\"type\":\"scatter3d\"}],\"scattercarpet\":[{\"marker\":{\"colorbar\":{\"outlinewidth\":0,\"ticks\":\"\"}},\"type\":\"scattercarpet\"}],\"scattergeo\":[{\"marker\":{\"colorbar\":{\"outlinewidth\":0,\"ticks\":\"\"}},\"type\":\"scattergeo\"}],\"scattergl\":[{\"marker\":{\"colorbar\":{\"outlinewidth\":0,\"ticks\":\"\"}},\"type\":\"scattergl\"}],\"scattermapbox\":[{\"marker\":{\"colorbar\":{\"outlinewidth\":0,\"ticks\":\"\"}},\"type\":\"scattermapbox\"}],\"scatterpolar\":[{\"marker\":{\"colorbar\":{\"outlinewidth\":0,\"ticks\":\"\"}},\"type\":\"scatterpolar\"}],\"scatterpolargl\":[{\"marker\":{\"colorbar\":{\"outlinewidth\":0,\"ticks\":\"\"}},\"type\":\"scatterpolargl\"}],\"scatterternary\":[{\"marker\":{\"colorbar\":{\"outlinewidth\":0,\"ticks\":\"\"}},\"type\":\"scatterternary\"}],\"surface\":[{\"colorbar\":{\"outlinewidth\":0,\"ticks\":\"\"},\"colorscale\":[[0.0,\"#0d0887\"],[0.1111111111111111,\"#46039f\"],[0.2222222222222222,\"#7201a8\"],[0.3333333333333333,\"#9c179e\"],[0.4444444444444444,\"#bd3786\"],[0.5555555555555556,\"#d8576b\"],[0.6666666666666666,\"#ed7953\"],[0.7777777777777778,\"#fb9f3a\"],[0.8888888888888888,\"#fdca26\"],[1.0,\"#f0f921\"]],\"type\":\"surface\"}],\"table\":[{\"cells\":{\"fill\":{\"color\":\"#EBF0F8\"},\"line\":{\"color\":\"white\"}},\"header\":{\"fill\":{\"color\":\"#C8D4E3\"},\"line\":{\"color\":\"white\"}},\"type\":\"table\"}]},\"layout\":{\"annotationdefaults\":{\"arrowcolor\":\"#2a3f5f\",\"arrowhead\":0,\"arrowwidth\":1},\"autotypenumbers\":\"strict\",\"coloraxis\":{\"colorbar\":{\"outlinewidth\":0,\"ticks\":\"\"}},\"colorscale\":{\"diverging\":[[0,\"#8e0152\"],[0.1,\"#c51b7d\"],[0.2,\"#de77ae\"],[0.3,\"#f1b6da\"],[0.4,\"#fde0ef\"],[0.5,\"#f7f7f7\"],[0.6,\"#e6f5d0\"],[0.7,\"#b8e186\"],[0.8,\"#7fbc41\"],[0.9,\"#4d9221\"],[1,\"#276419\"]],\"sequential\":[[0.0,\"#0d0887\"],[0.1111111111111111,\"#46039f\"],[0.2222222222222222,\"#7201a8\"],[0.3333333333333333,\"#9c179e\"],[0.4444444444444444,\"#bd3786\"],[0.5555555555555556,\"#d8576b\"],[0.6666666666666666,\"#ed7953\"],[0.7777777777777778,\"#fb9f3a\"],[0.8888888888888888,\"#fdca26\"],[1.0,\"#f0f921\"]],\"sequentialminus\":[[0.0,\"#0d0887\"],[0.1111111111111111,\"#46039f\"],[0.2222222222222222,\"#7201a8\"],[0.3333333333333333,\"#9c179e\"],[0.4444444444444444,\"#bd3786\"],[0.5555555555555556,\"#d8576b\"],[0.6666666666666666,\"#ed7953\"],[0.7777777777777778,\"#fb9f3a\"],[0.8888888888888888,\"#fdca26\"],[1.0,\"#f0f921\"]]},\"colorway\":[\"#636efa\",\"#EF553B\",\"#00cc96\",\"#ab63fa\",\"#FFA15A\",\"#19d3f3\",\"#FF6692\",\"#B6E880\",\"#FF97FF\",\"#FECB52\"],\"font\":{\"color\":\"#2a3f5f\"},\"geo\":{\"bgcolor\":\"white\",\"lakecolor\":\"white\",\"landcolor\":\"#E5ECF6\",\"showlakes\":true,\"showland\":true,\"subunitcolor\":\"white\"},\"hoverlabel\":{\"align\":\"left\"},\"hovermode\":\"closest\",\"mapbox\":{\"style\":\"light\"},\"paper_bgcolor\":\"white\",\"plot_bgcolor\":\"#E5ECF6\",\"polar\":{\"angularaxis\":{\"gridcolor\":\"white\",\"linecolor\":\"white\",\"ticks\":\"\"},\"bgcolor\":\"#E5ECF6\",\"radialaxis\":{\"gridcolor\":\"white\",\"linecolor\":\"white\",\"ticks\":\"\"}},\"scene\":{\"xaxis\":{\"backgroundcolor\":\"#E5ECF6\",\"gridcolor\":\"white\",\"gridwidth\":2,\"linecolor\":\"white\",\"showbackground\":true,\"ticks\":\"\",\"zerolinecolor\":\"white\"},\"yaxis\":{\"backgroundcolor\":\"#E5ECF6\",\"gridcolor\":\"white\",\"gridwidth\":2,\"linecolor\":\"white\",\"showbackground\":true,\"ticks\":\"\",\"zerolinecolor\":\"white\"},\"zaxis\":{\"backgroundcolor\":\"#E5ECF6\",\"gridcolor\":\"white\",\"gridwidth\":2,\"linecolor\":\"white\",\"showbackground\":true,\"ticks\":\"\",\"zerolinecolor\":\"white\"}},\"shapedefaults\":{\"line\":{\"color\":\"#2a3f5f\"}},\"ternary\":{\"aaxis\":{\"gridcolor\":\"white\",\"linecolor\":\"white\",\"ticks\":\"\"},\"baxis\":{\"gridcolor\":\"white\",\"linecolor\":\"white\",\"ticks\":\"\"},\"bgcolor\":\"#E5ECF6\",\"caxis\":{\"gridcolor\":\"white\",\"linecolor\":\"white\",\"ticks\":\"\"}},\"title\":{\"x\":0.05},\"xaxis\":{\"automargin\":true,\"gridcolor\":\"white\",\"linecolor\":\"white\",\"ticks\":\"\",\"title\":{\"standoff\":15},\"zerolinecolor\":\"white\",\"zerolinewidth\":2},\"yaxis\":{\"automargin\":true,\"gridcolor\":\"white\",\"linecolor\":\"white\",\"ticks\":\"\",\"title\":{\"standoff\":15},\"zerolinecolor\":\"white\",\"zerolinewidth\":2}}}},                        {\"responsive\": true}                    ).then(function(){\n",
       "                            \n",
       "var gd = document.getElementById('0d867e7c-471c-4808-8f77-90d62a78c4e6');\n",
       "var x = new MutationObserver(function (mutations, observer) {{\n",
       "        var display = window.getComputedStyle(gd).display;\n",
       "        if (!display || display === 'none') {{\n",
       "            console.log([gd, 'removed!']);\n",
       "            Plotly.purge(gd);\n",
       "            observer.disconnect();\n",
       "        }}\n",
       "}});\n",
       "\n",
       "// Listen for the removal of the full notebook cells\n",
       "var notebookContainer = gd.closest('#notebook-container');\n",
       "if (notebookContainer) {{\n",
       "    x.observe(notebookContainer, {childList: true});\n",
       "}}\n",
       "\n",
       "// Listen for the clearing of the current output cell\n",
       "var outputEl = gd.closest('.output');\n",
       "if (outputEl) {{\n",
       "    x.observe(outputEl, {childList: true});\n",
       "}}\n",
       "\n",
       "                        })                };                });            </script>        </div>"
      ]
     },
     "metadata": {},
     "output_type": "display_data"
    },
    {
     "data": {
      "image/png": "[encoded data removed]",
      "text/plain": [
       "<Figure size 864x432 with 1 Axes>"
      ]
     },
     "metadata": {},
     "output_type": "display_data"
    }
   ],
   "source": [
    "import seaborn as sns\n",
    "sns.set_style('darkgrid')\n",
    "plt.rc('figure',figsize=(17,13))\n",
    "import plotly.express as px\n",
    "import plotly.graph_objs as go\n",
    "import plotly.offline as pyo\n",
    "from plotly.subplots import make_subplots\n",
    "plt.figure(figsize=(12,6))\n",
    "sns.countplot(x='sentiment',data=tweets_df2)\n",
    "fig = go.Figure(go.Funnelarea(\n",
    "    text =temp.sentiment,\n",
    "    values = temp.Text,\n",
    "    title = {\"position\": \"top center\", \"text\": \"Funnel-Chart of Sentiment Distribution\"}\n",
    "    ))\n",
    "fig.show()"
   ]
  },
  {
   "cell_type": "markdown",
   "id": "93f79f37",
   "metadata": {},
   "source": [
    "The total of neutral is much higher than negative and positive. The number of negative tweets is very similar to the positive tweets."
   ]
  },
  {
   "cell_type": "code",
   "execution_count": null,
   "id": "f96446cf",
   "metadata": {},
   "outputs": [],
   "source": []
  }
 ],
 "metadata": {
  "kernelspec": {
   "display_name": "Python 3 (ipykernel)",
   "language": "python",
   "name": "python3"
  },
  "language_info": {
   "codemirror_mode": {
    "name": "ipython",
    "version": 3
   },
   "file_extension": ".py",
   "mimetype": "text/x-python",
   "name": "python",
   "nbconvert_exporter": "python",
   "pygments_lexer": "ipython3",
   "version": "3.8.5"
  }
 },
 "nbformat": 4,
 "nbformat_minor": 5
}
